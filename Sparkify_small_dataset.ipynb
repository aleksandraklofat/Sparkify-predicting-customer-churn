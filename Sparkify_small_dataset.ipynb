{
 "cells": [
  {
   "cell_type": "markdown",
   "metadata": {},
   "source": [
    "# Sparkify Project Workspace\n",
    "This workspace contains a tiny subset (128MB) of the full dataset available (12GB). Feel free to use this workspace to build your project, or to explore a smaller subset with Spark before deploying your cluster on the cloud. Instructions for setting up your Spark cluster is included in the last lesson of the Extracurricular Spark Course content.\n",
    "\n"
   ]
  },
  {
   "cell_type": "code",
   "execution_count": 1,
   "metadata": {},
   "outputs": [],
   "source": [
    "# import libraries\n",
    "import numpy as np\n",
    "import pandas as pd\n",
    "import matplotlib.pyplot as plt\n",
    "import seaborn as sns\n",
    "import datetime\n",
    "\n",
    "from pyspark.sql import Window\n",
    "from pyspark.sql import SparkSession\n",
    "\n",
    "from pyspark.sql.functions import desc\n",
    "from pyspark.sql.functions import asc\n",
    "from pyspark.sql.functions import sum as Fsum\n",
    "from pyspark.sql.functions import avg, substring, col, when, min, max, sum, split\n",
    "from pyspark.sql.functions import udf, count, countDistinct, rand, struct, isnan, isnull, dayofmonth \n",
    "from pyspark.sql.functions import month, datediff, to_date, lit, current_date\n",
    "\n",
    "from pyspark.sql.types import IntegerType, ArrayType, FloatType, DoubleType, Row, DateType, StringType\n",
    "\n",
    "from pyspark.ml.feature import Normalizer, StandardScaler\n",
    "from pyspark.ml.feature import StringIndexer, VectorAssembler\n",
    "from pyspark.ml.classification import LogisticRegression, RandomForestClassifier, GBTClassifier\n",
    "from pyspark.ml.evaluation import MulticlassClassificationEvaluator\n",
    "from pyspark.ml.tuning import CrossValidator, ParamGridBuilder\n",
    "\n",
    "from sklearn.utils import resample\n",
    "\n",
    "\n",
    "\n",
    "%matplotlib inline"
   ]
  },
  {
   "cell_type": "markdown",
   "metadata": {},
   "source": [
    "# Load and Clean Dataset\n",
    "In this workspace, the mini-dataset file is `mini_sparkify_event_data.json`. Load and clean the dataset, checking for invalid or missing data - for example, records without userids or sessionids. "
   ]
  },
  {
   "cell_type": "code",
   "execution_count": 2,
   "metadata": {},
   "outputs": [],
   "source": [
    "# Create a Spark session\n",
    "spark = SparkSession \\\n",
    "    .builder \\\n",
    "    .appName(\"Sparkify_1\") \\\n",
    "    .getOrCreate()"
   ]
  },
  {
   "cell_type": "code",
   "execution_count": 3,
   "metadata": {},
   "outputs": [],
   "source": [
    "path = \"mini_sparkify_event_data.json\"\n",
    "df = spark.read.json(path)"
   ]
  },
  {
   "cell_type": "markdown",
   "metadata": {},
   "source": [
    "## Exploring data and features"
   ]
  },
  {
   "cell_type": "code",
   "execution_count": 4,
   "metadata": {},
   "outputs": [
    {
     "name": "stdout",
     "output_type": "stream",
     "text": [
      "root\n",
      " |-- artist: string (nullable = true)\n",
      " |-- auth: string (nullable = true)\n",
      " |-- firstName: string (nullable = true)\n",
      " |-- gender: string (nullable = true)\n",
      " |-- itemInSession: long (nullable = true)\n",
      " |-- lastName: string (nullable = true)\n",
      " |-- length: double (nullable = true)\n",
      " |-- level: string (nullable = true)\n",
      " |-- location: string (nullable = true)\n",
      " |-- method: string (nullable = true)\n",
      " |-- page: string (nullable = true)\n",
      " |-- registration: long (nullable = true)\n",
      " |-- sessionId: long (nullable = true)\n",
      " |-- song: string (nullable = true)\n",
      " |-- status: long (nullable = true)\n",
      " |-- ts: long (nullable = true)\n",
      " |-- userAgent: string (nullable = true)\n",
      " |-- userId: string (nullable = true)\n",
      "\n"
     ]
    }
   ],
   "source": [
    "# Exploring data structure\n",
    "df.printSchema()"
   ]
  },
  {
   "cell_type": "code",
   "execution_count": 5,
   "metadata": {},
   "outputs": [
    {
     "data": {
      "text/plain": [
       "[Row(artist='Martha Tilston', auth='Logged In', firstName='Colin', gender='M', itemInSession=50, lastName='Freeman', length=277.89016, level='paid', location='Bakersfield, CA', method='PUT', page='NextSong', registration=1538173362000, sessionId=29, song='Rockpools', status=200, ts=1538352117000, userAgent='Mozilla/5.0 (Windows NT 6.1; WOW64; rv:31.0) Gecko/20100101 Firefox/31.0', userId='30')]"
      ]
     },
     "execution_count": 5,
     "metadata": {},
     "output_type": "execute_result"
    }
   ],
   "source": [
    "df.take(1)"
   ]
  },
  {
   "cell_type": "code",
   "execution_count": 6,
   "metadata": {},
   "outputs": [
    {
     "data": {
      "text/plain": [
       "286500"
      ]
     },
     "execution_count": 6,
     "metadata": {},
     "output_type": "execute_result"
    }
   ],
   "source": [
    "# Number of observations\n",
    "df.count()"
   ]
  },
  {
   "cell_type": "markdown",
   "metadata": {},
   "source": [
    "## Cleaning the dataset"
   ]
  },
  {
   "cell_type": "code",
   "execution_count": 7,
   "metadata": {},
   "outputs": [
    {
     "data": {
      "text/plain": [
       "226"
      ]
     },
     "execution_count": 7,
     "metadata": {},
     "output_type": "execute_result"
    }
   ],
   "source": [
    "# Removing duplicates in UserID\n",
    "df.select(\"userId\").dropDuplicates().count() "
   ]
  },
  {
   "cell_type": "code",
   "execution_count": 8,
   "metadata": {},
   "outputs": [],
   "source": [
    "# Removing empty values and strings\n",
    "df_clean = df.dropna(how = 'any', subset = ['userId', 'sessionId'])\n",
    "df_clean = df_clean.filter(df_clean['userId'] != '')"
   ]
  },
  {
   "cell_type": "code",
   "execution_count": 9,
   "metadata": {},
   "outputs": [
    {
     "data": {
      "text/plain": [
       "[Row(artist='Martha Tilston', auth='Logged In', firstName='Colin', gender='M', itemInSession=50, lastName='Freeman', length=277.89016, level='paid', location='Bakersfield, CA', method='PUT', page='NextSong', registration=1538173362000, sessionId=29, song='Rockpools', status=200, ts=1538352117000, userAgent='Mozilla/5.0 (Windows NT 6.1; WOW64; rv:31.0) Gecko/20100101 Firefox/31.0', userId='30'),\n",
       " Row(artist='Five Iron Frenzy', auth='Logged In', firstName='Micah', gender='M', itemInSession=79, lastName='Long', length=236.09424, level='free', location='Boston-Cambridge-Newton, MA-NH', method='PUT', page='NextSong', registration=1538331630000, sessionId=8, song='Canada', status=200, ts=1538352180000, userAgent='\"Mozilla/5.0 (Windows NT 6.1; WOW64) AppleWebKit/537.36 (KHTML, like Gecko) Chrome/37.0.2062.103 Safari/537.36\"', userId='9')]"
      ]
     },
     "execution_count": 9,
     "metadata": {},
     "output_type": "execute_result"
    }
   ],
   "source": [
    "df_clean.head(2) "
   ]
  },
  {
   "cell_type": "markdown",
   "metadata": {},
   "source": [
    "### Transforming time features"
   ]
  },
  {
   "cell_type": "code",
   "execution_count": 10,
   "metadata": {},
   "outputs": [],
   "source": [
    "get_date = udf(lambda x: datetime.datetime.fromtimestamp(x / 1000.0).strftime(\"%Y-%m-%d\"))\n",
    "df_clean = df_clean.withColumn(\"registration_date\", get_date(df_clean.registration))"
   ]
  },
  {
   "cell_type": "code",
   "execution_count": 11,
   "metadata": {},
   "outputs": [],
   "source": [
    "get_hour = udf(lambda x: datetime.datetime.fromtimestamp(x / 1000.0).strftime(\"%H\"))\n",
    "df_clean = df_clean.withColumn(\"hour\", get_hour(df_clean.ts))"
   ]
  },
  {
   "cell_type": "markdown",
   "metadata": {},
   "source": [
    "### Extracting Location"
   ]
  },
  {
   "cell_type": "code",
   "execution_count": 12,
   "metadata": {},
   "outputs": [],
   "source": [
    "get_location=udf(lambda x:x[-2:])\n",
    "df_clean = df_clean.withColumn(\"location_state\", get_location(df_clean.location))"
   ]
  },
  {
   "cell_type": "code",
   "execution_count": 13,
   "metadata": {},
   "outputs": [
    {
     "name": "stdout",
     "output_type": "stream",
     "text": [
      "+--------------+\n",
      "|location_state|\n",
      "+--------------+\n",
      "|            AZ|\n",
      "|            SC|\n",
      "|            LA|\n",
      "|            NJ|\n",
      "|            OR|\n",
      "|            VA|\n",
      "|            KY|\n",
      "|            NH|\n",
      "|            MI|\n",
      "|            NV|\n",
      "|            WI|\n",
      "|            ID|\n",
      "|            CA|\n",
      "|            CT|\n",
      "|            MT|\n",
      "|            NC|\n",
      "|            MD|\n",
      "|            MO|\n",
      "|            IL|\n",
      "|            WA|\n",
      "+--------------+\n",
      "only showing top 20 rows\n",
      "\n"
     ]
    }
   ],
   "source": [
    "df_clean.select(\"location_state\").distinct().show()"
   ]
  },
  {
   "cell_type": "code",
   "execution_count": null,
   "metadata": {},
   "outputs": [],
   "source": []
  },
  {
   "cell_type": "markdown",
   "metadata": {},
   "source": [
    "# Exploratory Data Analysis\n",
    "\n",
    "\n",
    "### Defining Churn"
   ]
  },
  {
   "cell_type": "markdown",
   "metadata": {},
   "source": [
    "Below I will define the churn variable  based on the user ID and cancellation confirmation feature in the dataset. "
   ]
  },
  {
   "cell_type": "code",
   "execution_count": 14,
   "metadata": {},
   "outputs": [],
   "source": [
    "df_clean.createOrReplaceTempView('user_log_table')\n",
    "\n",
    "# data with churned users\n",
    "churn = spark.sql('SELECT DISTINCT userId, 1 as churn FROM user_log_table WHERE Page = \"Cancellation Confirmation\"')"
   ]
  },
  {
   "cell_type": "code",
   "execution_count": 15,
   "metadata": {},
   "outputs": [],
   "source": [
    "# data with other users\n",
    "no_churn = spark.sql('SELECT DISTINCT userId, 0 as churn FROM user_log_table \\\n",
    "                      WHERE userId NOT IN (SELECT DISTINCT userId FROM user_log_table WHERE Page = \"Cancellation Confirmation\")')"
   ]
  },
  {
   "cell_type": "code",
   "execution_count": 16,
   "metadata": {},
   "outputs": [
    {
     "data": {
      "text/plain": [
       "225"
      ]
     },
     "execution_count": 16,
     "metadata": {},
     "output_type": "execute_result"
    }
   ],
   "source": [
    "# Creating a combined dataset of churned users\n",
    "churn_combined = churn.union(no_churn)\n",
    "churn_combined.createOrReplaceTempView('churn_nochurn')\n",
    "churn_combined = spark.sql('SELECT * FROM churn_nochurn ORDER BY RAND()')\n",
    "churn_combined.count()"
   ]
  },
  {
   "cell_type": "code",
   "execution_count": 17,
   "metadata": {},
   "outputs": [],
   "source": [
    "# Combining dataframes\n",
    "churn_df = df_clean.join(churn_combined, on='userId')"
   ]
  },
  {
   "cell_type": "code",
   "execution_count": 18,
   "metadata": {},
   "outputs": [
    {
     "name": "stdout",
     "output_type": "stream",
     "text": [
      "+------+-----+\n",
      "|userId|churn|\n",
      "+------+-----+\n",
      "|100010|    0|\n",
      "|200002|    0|\n",
      "|   125|    1|\n",
      "|   124|    0|\n",
      "|    51|    1|\n",
      "|     7|    0|\n",
      "|    15|    0|\n",
      "|    54|    1|\n",
      "|   155|    0|\n",
      "|100014|    1|\n",
      "|   132|    0|\n",
      "|   154|    0|\n",
      "|   101|    1|\n",
      "|    11|    0|\n",
      "|   138|    0|\n",
      "|300017|    0|\n",
      "|100021|    1|\n",
      "|    29|    1|\n",
      "|    69|    0|\n",
      "|   112|    0|\n",
      "+------+-----+\n",
      "only showing top 20 rows\n",
      "\n"
     ]
    }
   ],
   "source": [
    "churn_df.select(['userId', 'churn']).dropDuplicates().show(20)"
   ]
  },
  {
   "cell_type": "code",
   "execution_count": 19,
   "metadata": {},
   "outputs": [
    {
     "name": "stdout",
     "output_type": "stream",
     "text": [
      "+--------------------+\n",
      "|                page|\n",
      "+--------------------+\n",
      "|              Cancel|\n",
      "|    Submit Downgrade|\n",
      "|         Thumbs Down|\n",
      "|                Home|\n",
      "|           Downgrade|\n",
      "|         Roll Advert|\n",
      "|              Logout|\n",
      "|       Save Settings|\n",
      "|Cancellation Conf...|\n",
      "|               About|\n",
      "|            Settings|\n",
      "|     Add to Playlist|\n",
      "|          Add Friend|\n",
      "|            NextSong|\n",
      "|           Thumbs Up|\n",
      "|                Help|\n",
      "|             Upgrade|\n",
      "|               Error|\n",
      "|      Submit Upgrade|\n",
      "+--------------------+\n",
      "\n"
     ]
    }
   ],
   "source": [
    "churn_df.select('page').dropDuplicates().show()"
   ]
  },
  {
   "cell_type": "markdown",
   "metadata": {},
   "source": [
    "## Data Exploration"
   ]
  },
  {
   "cell_type": "markdown",
   "metadata": {},
   "source": [
    "Below I explore the data and see whteher there are connections between different variables in the dataset. I also visualise some results. "
   ]
  },
  {
   "cell_type": "markdown",
   "metadata": {},
   "source": [
    "### 1. Churn and Time"
   ]
  },
  {
   "cell_type": "markdown",
   "metadata": {},
   "source": [
    "First I will explore whethere there is connection between time and churn variable. "
   ]
  },
  {
   "cell_type": "code",
   "execution_count": 20,
   "metadata": {},
   "outputs": [
    {
     "name": "stdout",
     "output_type": "stream",
     "text": [
      "+----+\n",
      "|hour|\n",
      "+----+\n",
      "|  07|\n",
      "|  15|\n",
      "|  11|\n",
      "|  01|\n",
      "|  22|\n",
      "|  16|\n",
      "|  18|\n",
      "|  00|\n",
      "|  17|\n",
      "|  09|\n",
      "|  05|\n",
      "|  19|\n",
      "|  23|\n",
      "|  08|\n",
      "|  03|\n",
      "|  02|\n",
      "|  06|\n",
      "|  20|\n",
      "|  10|\n",
      "|  12|\n",
      "+----+\n",
      "only showing top 20 rows\n",
      "\n"
     ]
    }
   ],
   "source": [
    "churn_df.select(\"hour\").distinct().show()"
   ]
  },
  {
   "cell_type": "code",
   "execution_count": 21,
   "metadata": {},
   "outputs": [
    {
     "name": "stdout",
     "output_type": "stream",
     "text": [
      "+-----------------+\n",
      "|registration_date|\n",
      "+-----------------+\n",
      "|       2018-08-23|\n",
      "|       2018-06-22|\n",
      "|       2018-08-24|\n",
      "|       2018-09-27|\n",
      "|       2018-11-26|\n",
      "|       2018-09-15|\n",
      "|       2018-08-02|\n",
      "|       2018-08-04|\n",
      "|       2018-07-28|\n",
      "|       2018-08-29|\n",
      "|       2018-08-09|\n",
      "|       2018-07-29|\n",
      "|       2018-09-12|\n",
      "|       2018-06-25|\n",
      "|       2018-06-09|\n",
      "|       2018-08-30|\n",
      "|       2018-09-29|\n",
      "|       2018-06-30|\n",
      "|       2018-08-13|\n",
      "|       2018-08-14|\n",
      "+-----------------+\n",
      "only showing top 20 rows\n",
      "\n"
     ]
    }
   ],
   "source": [
    "churn_df.select(\"registration_date\").distinct().show()"
   ]
  },
  {
   "cell_type": "code",
   "execution_count": 22,
   "metadata": {},
   "outputs": [
    {
     "data": {
      "text/plain": [
       "<matplotlib.axes._subplots.AxesSubplot at 0x7f67e43523c8>"
      ]
     },
     "execution_count": 22,
     "metadata": {},
     "output_type": "execute_result"
    },
    {
     "data": {
      "image/png": "[encoded data removed]",
      "text/plain": [
       "<matplotlib.figure.Figure at 0x7f67b3947dd8>"
      ]
     },
     "metadata": {
      "needs_background": "light"
     },
     "output_type": "display_data"
    }
   ],
   "source": [
    "plt.figure(figsize=(10,5))\n",
    "df_hour=churn_df.groupby([\"churn\", \"hour\"]).count().sort(\"churn\").toPandas()\n",
    "sns.barplot(x='hour', y='count', hue='churn', data=df_hour)"
   ]
  },
  {
   "cell_type": "code",
   "execution_count": 23,
   "metadata": {},
   "outputs": [
    {
     "data": {
      "image/png": "[encoded data removed]",
      "text/plain": [
       "<matplotlib.figure.Figure at 0x7f67b0b27eb8>"
      ]
     },
     "metadata": {
      "needs_background": "light"
     },
     "output_type": "display_data"
    }
   ],
   "source": [
    "plt.figure(figsize=(20,10))\n",
    "df_registration_date=churn_df.groupby([\"registration_date\", \"churn\"]).count().sort(\"registration_date\").toPandas()\n",
    "sns.barplot(x='churn', y='count', hue='registration_date', data=df_registration_date);"
   ]
  },
  {
   "cell_type": "markdown",
   "metadata": {},
   "source": [
    "I don´t see any particularly strong connection between time variables and churn. "
   ]
  },
  {
   "cell_type": "markdown",
   "metadata": {},
   "source": [
    "### 2. Churn and the level of subscription"
   ]
  },
  {
   "cell_type": "markdown",
   "metadata": {},
   "source": [
    "Next potential connection I will visualise is the relation between churn and the level of subscription. There are two levels of subscription: free and paid. I will verify whether churn rates are higher at the paid level or not. "
   ]
  },
  {
   "cell_type": "code",
   "execution_count": 24,
   "metadata": {},
   "outputs": [
    {
     "name": "stdout",
     "output_type": "stream",
     "text": [
      "+-----+\n",
      "|level|\n",
      "+-----+\n",
      "| free|\n",
      "| paid|\n",
      "+-----+\n",
      "\n"
     ]
    }
   ],
   "source": [
    "churn_df.select(\"level\").distinct().show()"
   ]
  },
  {
   "cell_type": "code",
   "execution_count": 25,
   "metadata": {},
   "outputs": [
    {
     "data": {
      "text/plain": [
       "<matplotlib.axes._subplots.AxesSubplot at 0x7f67b0247e10>"
      ]
     },
     "execution_count": 25,
     "metadata": {},
     "output_type": "execute_result"
    },
    {
     "data": {
      "image/png": "[encoded data removed]",
      "text/plain": [
       "<matplotlib.figure.Figure at 0x7f67b0895e10>"
      ]
     },
     "metadata": {
      "needs_background": "light"
     },
     "output_type": "display_data"
    }
   ],
   "source": [
    "plt.figure(figsize=(8,4))\n",
    "df_level=churn_df.groupby([\"churn\", \"level\"]).count().sort(\"churn\").toPandas()\n",
    "sns.barplot(x='level', y='count', hue='churn', data=df_level)"
   ]
  },
  {
   "cell_type": "markdown",
   "metadata": {},
   "source": [
    "Based on this visualisation alone we can see that free users churn slightly more than paid users."
   ]
  },
  {
   "cell_type": "markdown",
   "metadata": {},
   "source": [
    "### 4. Churn and user location"
   ]
  },
  {
   "cell_type": "markdown",
   "metadata": {},
   "source": [
    "In this step I will visualise the connection between churn and geographical location of users. "
   ]
  },
  {
   "cell_type": "code",
   "execution_count": 26,
   "metadata": {},
   "outputs": [
    {
     "data": {
      "text/plain": [
       "39"
      ]
     },
     "execution_count": 26,
     "metadata": {},
     "output_type": "execute_result"
    }
   ],
   "source": [
    "churn_df.select(\"location_state\").distinct().count()"
   ]
  },
  {
   "cell_type": "code",
   "execution_count": 27,
   "metadata": {},
   "outputs": [
    {
     "data": {
      "image/png": "[encoded data removed]",
      "text/plain": [
       "<matplotlib.figure.Figure at 0x7f67b017ee48>"
      ]
     },
     "metadata": {
      "needs_background": "light"
     },
     "output_type": "display_data"
    }
   ],
   "source": [
    "plt.figure(figsize=(15,10))\n",
    "df_location=churn_df.groupby([\"location_state\", \"churn\"]).count().sort(\"churn\").toPandas()\n",
    "sns.barplot(x='location_state', y='count', hue='churn', data=df_location);"
   ]
  },
  {
   "cell_type": "markdown",
   "metadata": {},
   "source": [
    "There seem to be a dependency between location and churn rate. However, based on this graph alone, it is impossible to say whethere there are other factors influencing churn rates in particular states. "
   ]
  },
  {
   "cell_type": "markdown",
   "metadata": {},
   "source": [
    "# Feature Engineering"
   ]
  },
  {
   "cell_type": "markdown",
   "metadata": {},
   "source": [
    "I the following step I recreate the dataset with numeric features and create some features for the model."
   ]
  },
  {
   "cell_type": "markdown",
   "metadata": {},
   "source": [
    "### 1. Total songs per user"
   ]
  },
  {
   "cell_type": "code",
   "execution_count": 28,
   "metadata": {},
   "outputs": [
    {
     "name": "stdout",
     "output_type": "stream",
     "text": [
      "+-------+------------------+-----------------+\n",
      "|summary|            userId|    song_per_user|\n",
      "+-------+------------------+-----------------+\n",
      "|  count|               225|              225|\n",
      "|   mean|65391.013333333336|          1236.24|\n",
      "| stddev|105396.47791907164|1329.531716432519|\n",
      "|    min|                10|                6|\n",
      "|    max|                99|             9632|\n",
      "+-------+------------------+-----------------+\n",
      "\n"
     ]
    }
   ],
   "source": [
    "# Number of songs per user\n",
    "song_per_user = churn_df \\\n",
    "                  .select(\"userId\",\"song\")\\\n",
    "                  .groupby(\"userId\")\\\n",
    "                  .count()\\\n",
    "                  .withColumnRenamed(\"count\",\"song_per_user\")\n",
    "song_per_user.describe().show()"
   ]
  },
  {
   "cell_type": "markdown",
   "metadata": {},
   "source": [
    "### 2. Gender"
   ]
  },
  {
   "cell_type": "code",
   "execution_count": 29,
   "metadata": {},
   "outputs": [
    {
     "name": "stdout",
     "output_type": "stream",
     "text": [
      "+-------+------------------+------------------+\n",
      "|summary|            userId|        gender_num|\n",
      "+-------+------------------+------------------+\n",
      "|  count|               225|               225|\n",
      "|   mean|65391.013333333336|0.4622222222222222|\n",
      "| stddev|105396.47791907164|0.4996824388374478|\n",
      "|    min|                10|                 0|\n",
      "|    max|                99|                 1|\n",
      "+-------+------------------+------------------+\n",
      "\n"
     ]
    }
   ],
   "source": [
    "# Gender\n",
    "gender_num = churn_df\\\n",
    "           .select('userId','gender')\\\n",
    "           .dropDuplicates() \\\n",
    "           .replace(['M','F'],['0','1'],'gender')\\\n",
    "           .select('userId',col('gender').cast('int'))\\\n",
    "           .withColumnRenamed('gender', 'gender_num') \n",
    "gender_num.describe().show()"
   ]
  },
  {
   "cell_type": "markdown",
   "metadata": {},
   "source": [
    "### 3. Thumbs up per user"
   ]
  },
  {
   "cell_type": "code",
   "execution_count": 30,
   "metadata": {},
   "outputs": [
    {
     "name": "stdout",
     "output_type": "stream",
     "text": [
      "+-------+------------------+-----------------+\n",
      "|summary|            userID|        thumbs_up|\n",
      "+-------+------------------+-----------------+\n",
      "|  count|               220|              220|\n",
      "|   mean| 66420.27727272727|            57.05|\n",
      "| stddev|106196.51156121881|65.67028650524044|\n",
      "|    min|                10|                1|\n",
      "|    max|                99|              437|\n",
      "+-------+------------------+-----------------+\n",
      "\n"
     ]
    }
   ],
   "source": [
    "# Thumbs up\n",
    "thumbs_up = churn_df \\\n",
    "             .select('userID','page') \\\n",
    "             .where(churn_df.page == 'Thumbs Up') \\\n",
    "             .groupBy('userID') \\\n",
    "             .count() \\\n",
    "             .withColumnRenamed('count', 'thumbs_up') \n",
    "thumbs_up.describe().show()"
   ]
  },
  {
   "cell_type": "markdown",
   "metadata": {},
   "source": [
    "### 4. Thums down per user"
   ]
  },
  {
   "cell_type": "code",
   "execution_count": 31,
   "metadata": {},
   "outputs": [
    {
     "name": "stdout",
     "output_type": "stream",
     "text": [
      "+-------+------------------+------------------+\n",
      "|summary|            userID|       thumbs_down|\n",
      "+-------+------------------+------------------+\n",
      "|  count|               203|               203|\n",
      "|   mean| 66066.16256157635|12.541871921182265|\n",
      "| stddev|106108.32569893777|13.198108566983787|\n",
      "|    min|                10|                 1|\n",
      "|    max|                99|                75|\n",
      "+-------+------------------+------------------+\n",
      "\n"
     ]
    }
   ],
   "source": [
    "# Thumbs down\n",
    "thumbs_down = churn_df \\\n",
    "                 .select('userID','page') \\\n",
    "                 .where(churn_df.page == 'Thumbs Down') \\\n",
    "                 .groupBy('userID') \\\n",
    "                 .count() \\\n",
    "                 .withColumnRenamed('count', 'thumbs_down')\n",
    "thumbs_down.describe().show()"
   ]
  },
  {
   "cell_type": "markdown",
   "metadata": {},
   "source": [
    "### 5. Listening time"
   ]
  },
  {
   "cell_type": "code",
   "execution_count": 32,
   "metadata": {},
   "outputs": [
    {
     "name": "stdout",
     "output_type": "stream",
     "text": [
      "+-------+------------------+------------------+\n",
      "|summary|            userId|    listening_time|\n",
      "+-------+------------------+------------------+\n",
      "|  count|               225|               225|\n",
      "|   mean|65391.013333333336|252558.32065155543|\n",
      "| stddev|105396.47791907164| 275396.4038847635|\n",
      "|    min|                10|         691.66884|\n",
      "|    max|                99|1991154.9155799907|\n",
      "+-------+------------------+------------------+\n",
      "\n"
     ]
    }
   ],
   "source": [
    "# Listening time\n",
    "listening_time = churn_df \\\n",
    "            .select('userId','length') \\\n",
    "            .groupby(['userId']) \\\n",
    "            .sum() \\\n",
    "            .withColumnRenamed('sum(length)','listening_time')\n",
    "\n",
    "listening_time.describe().show()"
   ]
  },
  {
   "cell_type": "markdown",
   "metadata": {},
   "source": [
    "### 6. Level"
   ]
  },
  {
   "cell_type": "code",
   "execution_count": 33,
   "metadata": {},
   "outputs": [
    {
     "name": "stdout",
     "output_type": "stream",
     "text": [
      "+-------+------------------+-------------------+\n",
      "|summary|            userId|          level_num|\n",
      "+-------+------------------+-------------------+\n",
      "|  count|            278154|             278154|\n",
      "|   mean| 59682.02278593872| 0.7996757192059075|\n",
      "| stddev|109091.94999910559|0.40024372479844644|\n",
      "|    min|                10|                  0|\n",
      "|    max|                99|                  1|\n",
      "+-------+------------------+-------------------+\n",
      "\n"
     ]
    }
   ],
   "source": [
    "level_num = churn_df\\\n",
    "         .select('userId','level')\\\n",
    "         .replace(['free','paid'],['0','1'],'level')\\\n",
    "         .select('userId',col('level').cast('int'))\\\n",
    "         .withColumnRenamed('level', 'level_num') \n",
    "level_num.describe().show()"
   ]
  },
  {
   "cell_type": "markdown",
   "metadata": {},
   "source": [
    "### 7. Changing name from churn to label"
   ]
  },
  {
   "cell_type": "code",
   "execution_count": 34,
   "metadata": {},
   "outputs": [
    {
     "name": "stdout",
     "output_type": "stream",
     "text": [
      "+-------+------------------+------------------+\n",
      "|summary|            userId|             label|\n",
      "+-------+------------------+------------------+\n",
      "|  count|               225|               225|\n",
      "|   mean|65391.013333333336|0.2311111111111111|\n",
      "| stddev|105396.47791907164|0.4224832108996327|\n",
      "|    min|                10|                 0|\n",
      "|    max|                99|                 1|\n",
      "+-------+------------------+------------------+\n",
      "\n"
     ]
    }
   ],
   "source": [
    "label = churn_df \\\n",
    "    .select('userId', col('churn').alias('label')) \\\n",
    "    .dropDuplicates()\n",
    "label.describe().show()"
   ]
  },
  {
   "cell_type": "code",
   "execution_count": 35,
   "metadata": {},
   "outputs": [
    {
     "name": "stdout",
     "output_type": "stream",
     "text": [
      "+-------------+----------+---------+-----------+-----------------+---------+-----+\n",
      "|song_per_user|gender_num|thumbs_up|thumbs_down|   listening_time|level_num|label|\n",
      "+-------------+----------+---------+-----------+-----------------+---------+-----+\n",
      "|          381|         1|       17|          5|66940.89735000003|        0|    0|\n",
      "|          381|         1|       17|          5|66940.89735000003|        0|    0|\n",
      "|          381|         1|       17|          5|66940.89735000003|        0|    0|\n",
      "|          381|         1|       17|          5|66940.89735000003|        0|    0|\n",
      "|          381|         1|       17|          5|66940.89735000003|        0|    0|\n",
      "+-------------+----------+---------+-----------+-----------------+---------+-----+\n",
      "only showing top 5 rows\n",
      "\n"
     ]
    }
   ],
   "source": [
    "# Joining data set \n",
    "data = song_per_user.join(gender_num,'userID','outer') \\\n",
    "          .join(thumbs_up,'userID','outer') \\\n",
    "          .join(thumbs_down, 'userID','outer') \\\n",
    "          .join(listening_time,'userID','outer') \\\n",
    "          .join(level_num,'userID','outer') \\\n",
    "          .join(label,'userID','outer') \\\n",
    "          .drop('userID') \\\n",
    "          .fillna(0)\n",
    "\n",
    "data.show(5)"
   ]
  },
  {
   "cell_type": "code",
   "execution_count": 36,
   "metadata": {},
   "outputs": [
    {
     "name": "stdout",
     "output_type": "stream",
     "text": [
      "+-----+\n",
      "|label|\n",
      "+-----+\n",
      "|    1|\n",
      "|    0|\n",
      "+-----+\n",
      "\n"
     ]
    }
   ],
   "source": [
    "data.select(\"label\").distinct().show()"
   ]
  },
  {
   "cell_type": "markdown",
   "metadata": {},
   "source": [
    "# Modeling"
   ]
  },
  {
   "cell_type": "markdown",
   "metadata": {},
   "source": [
    "### Feature Scaling and Transformation"
   ]
  },
  {
   "cell_type": "markdown",
   "metadata": {},
   "source": [
    "As a first step I vectorize the features"
   ]
  },
  {
   "cell_type": "code",
   "execution_count": 37,
   "metadata": {},
   "outputs": [],
   "source": [
    "# Vector assembler\n",
    "cols = ['song_per_user', 'gender_num', 'thumbs_up', 'thumbs_down','level_num','listening_time']\n",
    "assembler = VectorAssembler(inputCols=cols, outputCol=\"NumFeatures\")\n",
    "data = assembler.transform(data)"
   ]
  },
  {
   "cell_type": "markdown",
   "metadata": {},
   "source": [
    "The features also need scaling in order to be processed by the algorithms. Here I standardize the features."
   ]
  },
  {
   "cell_type": "code",
   "execution_count": 38,
   "metadata": {},
   "outputs": [],
   "source": [
    "# Standard scaler\n",
    "scaler = StandardScaler(inputCol=\"NumFeatures\", outputCol=\"features\", withStd=True)\n",
    "scalerModel = scaler.fit(data)\n",
    "data = scalerModel.transform(data)"
   ]
  },
  {
   "cell_type": "markdown",
   "metadata": {},
   "source": [
    "## Model Selection"
   ]
  },
  {
   "cell_type": "markdown",
   "metadata": {},
   "source": [
    "### Implementation"
   ]
  },
  {
   "cell_type": "markdown",
   "metadata": {},
   "source": [
    "For the purpose of this project, as a first step, I decided to implement three algorithms without any parameter tunig.\n",
    "\n",
    "In the considerations, which algorithms to choose I had to take into account the fact, that not all algorithms are supported by the Spark framework.\n",
    "\n",
    "Another issue is defining, what kind of algorithm can we use in order to answer the question about customer churn. \n",
    "\n",
    "Customer churn feature is a binary one with basically two values: churn and no-churn. Therefore our question is a classification question and thus we need to implement a classification algorithm. \n",
    "\n",
    "Spark supports folowing classification algorithms:\n",
    "\n",
    "- Logistic Regression\n",
    "- Random Forests\n",
    "- Gradient Boosted Trees\n",
    "- Support Vector Machines\n",
    "- Naive Bayes\n",
    "\n",
    "For the first step of my modeling strategy I decided to implement: logistic regression, random forests and gradient boosted trees.\n",
    "\n",
    "Logistic regresion as well Naive Bayes are often used as a first try algorithms. For this project I have chosen logistic regression as it is relatively easy to implement and works fast with the data at hand. Logistic regression is also mor robust to overfitting than radnom forest and gradient boosting.\n",
    "\n",
    "Further, I implement ensemble techniques: random forest and gradient boosting. Both random forest as well as gardient boosting are based on the weak learners: decision trees. Although they both are based on the decision trees they utilise them in quite opposite ways: whereas random forest  is training the decision trees in parallel, gradient boosting algorithm proceeds sequential. For more information on this topic see: Lujing Chen in Medium (https://towardsdatascience.com/basic-ensemble-learning-random-forest-adaboost-gradient-boosting-step-by-step-explained-95d49d1e2725).\n",
    "\n",
    "\n",
    "Gradient boosting is known for good performance in unbalanced datasets. Therefore it is resonable to assume, that it will perform best with our small sample in Sparkify datasubset. (Source: Abolfazl Ravanshad for Medium https://medium.com/@aravanshad/gradient-boosting-versus-random-forest-cfa3fa8f0d80). \n",
    "\n",
    "On the other hand random forests are known for good handling of large amounts of data. This could become handy later on in our project, when the algorithm is tested on the whole set of the data.\n",
    "\n",
    "The issue with both algorithms (random forest and gradient boosting) is their frequent overfitting. That is the reason I introduce logistic regression as a comparison to the two. Logistic regression tends to not overfitt. However it has opposite issues with high bias.\n",
    "\n",
    "With the selection of modeling strategy I also had to take into account its computation time. Form my experience SVM algorithm is very time consuming. I assume that the three chosen algorithms perform best with regard to computation time. \n",
    "\n",
    "My overall approach is following:\n",
    "\n",
    "- first I run all three algorithms as baseline models without any further hyperparameter tuning in order to see which one is delivering best results as measured by the F1 score. This strategy enables me to test models without loosing too much time with computation. \n",
    "\n",
    "- second, based on the results from the first try, I decide which algorithm to use and subsequently implement it with parameter tuning (grid search). \n",
    "\n",
    "It is important to bear in mind, that the dataset at hand is not balanced. Specifically, it contains much less churned users than not churned. This can be especially problematic in the testing part of the sample(which is smaller).\n",
    "\n",
    "For this reasion I use F1 score instead of relying on accuracy score as metrics of choice to asses the perofmance of each baseline model. "
   ]
  },
  {
   "cell_type": "markdown",
   "metadata": {},
   "source": [
    "### Train and Validation Set"
   ]
  },
  {
   "cell_type": "code",
   "execution_count": 39,
   "metadata": {},
   "outputs": [],
   "source": [
    "# Splitting data into train and validation set\n",
    "rest, validation = data.randomSplit([0.8, 0.2], seed=42)"
   ]
  },
  {
   "cell_type": "markdown",
   "metadata": {},
   "source": [
    "Below I try the three baseline models"
   ]
  },
  {
   "cell_type": "markdown",
   "metadata": {},
   "source": [
    "### Logistic Regression"
   ]
  },
  {
   "cell_type": "code",
   "execution_count": 40,
   "metadata": {},
   "outputs": [],
   "source": [
    "lr =  LogisticRegression(maxIter=10, regParam=0.0, elasticNetParam=0)"
   ]
  },
  {
   "cell_type": "code",
   "execution_count": 41,
   "metadata": {},
   "outputs": [],
   "source": [
    "f_score = MulticlassClassificationEvaluator(metricName='f1')"
   ]
  },
  {
   "cell_type": "code",
   "execution_count": 42,
   "metadata": {},
   "outputs": [
    {
     "name": "stdout",
     "output_type": "stream",
     "text": [
      "Accuracy:\n",
      "0.8368801987684995\n",
      "F-1 score:\n",
      "0.7625630322111933\n"
     ]
    }
   ],
   "source": [
    "lr_train = lr.fit(rest)\n",
    "lr_test = lr_train.transform(validation)\n",
    "\n",
    "evaluator = MulticlassClassificationEvaluator(predictionCol='prediction')\n",
    "\n",
    "print('Accuracy:')\n",
    "print(evaluator.evaluate(lr_test,{evaluator.metricName: 'accuracy'}))\n",
    "print('F-1 score:')\n",
    "print(evaluator.evaluate(lr_test, {evaluator.metricName: 'f1'}))\n"
   ]
  },
  {
   "cell_type": "markdown",
   "metadata": {},
   "source": [
    "### Random Forest"
   ]
  },
  {
   "cell_type": "code",
   "execution_count": 43,
   "metadata": {},
   "outputs": [],
   "source": [
    "rf = RandomForestClassifier()"
   ]
  },
  {
   "cell_type": "code",
   "execution_count": 44,
   "metadata": {},
   "outputs": [],
   "source": [
    "f_score=MulticlassClassificationEvaluator(metricName='f1')"
   ]
  },
  {
   "cell_type": "code",
   "execution_count": 45,
   "metadata": {},
   "outputs": [
    {
     "name": "stdout",
     "output_type": "stream",
     "text": [
      "Accuracy:\n",
      "0.878002232544741\n",
      "F-1 score:\n",
      "0.8457104279069035\n"
     ]
    }
   ],
   "source": [
    "rf_train = rf.fit(rest)\n",
    "rf_test = rf_train.transform(validation)\n",
    "\n",
    "\n",
    "evaluator = MulticlassClassificationEvaluator(predictionCol='prediction')\n",
    "print('Accuracy:')\n",
    "print(evaluator.evaluate(rf_test,{evaluator.metricName: 'accuracy'}))\n",
    "print('F-1 score:')\n",
    "print(evaluator.evaluate(rf_test, {evaluator.metricName: 'f1'}))"
   ]
  },
  {
   "cell_type": "markdown",
   "metadata": {},
   "source": [
    "### Gradient Boosting"
   ]
  },
  {
   "cell_type": "code",
   "execution_count": 46,
   "metadata": {},
   "outputs": [],
   "source": [
    "gb = GBTClassifier()"
   ]
  },
  {
   "cell_type": "code",
   "execution_count": 47,
   "metadata": {},
   "outputs": [],
   "source": [
    "f_score=MulticlassClassificationEvaluator(metricName='f1')"
   ]
  },
  {
   "cell_type": "code",
   "execution_count": 48,
   "metadata": {},
   "outputs": [
    {
     "name": "stdout",
     "output_type": "stream",
     "text": [
      "Accuracy\n",
      "0.9907457419610385\n",
      "F-1 score\n",
      "0.9906360976378528\n"
     ]
    }
   ],
   "source": [
    "gb_train = gb.fit(rest)\n",
    "gb_test = gb_train.transform(validation)\n",
    "    \n",
    "\n",
    "evaluator = MulticlassClassificationEvaluator(predictionCol='prediction')\n",
    "\n",
    "print('Accuracy')\n",
    "print(evaluator.evaluate(gb_test,{evaluator.metricName: 'accuracy'}))\n",
    "print('F-1 score')\n",
    "print(evaluator.evaluate(gb_test, {evaluator.metricName: 'f1'}))"
   ]
  },
  {
   "cell_type": "markdown",
   "metadata": {},
   "source": [
    "## Preliminary Results and Refinement"
   ]
  },
  {
   "cell_type": "markdown",
   "metadata": {},
   "source": [
    "Overall, the results of the baseline specifications look encouraging. Especially random forest and gardient boosting scored very well on the F1 metrics. \n",
    "\n",
    "Not surprisingly logistic regression had the lowest F1 score. This is due to the fact, that (as a linear specification) regression results have more bias but also overfit less than the decision tree based algorithms.\n",
    "\n",
    "Nevertheless, I will proceed further with gradient boosting algorithm. Its scores on the first run were the best. Despite overfitting I expect it to generally perform better on the entire Sparkify dataset. \n",
    "\n",
    "In the next stage I will therefore improve on the gradient boosting specification. \n",
    "\n",
    "I will use grid search to find best hyperparameters. Additionally I splitt the sample of the data evenly 50-50 in order to account for the small number of churned customers in the test sample. \n"
   ]
  },
  {
   "cell_type": "markdown",
   "metadata": {},
   "source": [
    "### Gradient Boosting"
   ]
  },
  {
   "cell_type": "code",
   "execution_count": 49,
   "metadata": {},
   "outputs": [],
   "source": [
    "train, test = data.randomSplit([0.7, 0.3], seed=42) # different splitting of the dataset"
   ]
  },
  {
   "cell_type": "code",
   "execution_count": 50,
   "metadata": {},
   "outputs": [],
   "source": [
    "gb_tuned = GBTClassifier()"
   ]
  },
  {
   "cell_type": "code",
   "execution_count": 51,
   "metadata": {},
   "outputs": [],
   "source": [
    "# Tuning the hyperparameter\n",
    "paramGrid = ParamGridBuilder()\\\n",
    "       .addGrid(gb_tuned.maxIter,[5,10])\\\n",
    "       .addGrid(gb_tuned.maxDepth,[4,12]) \\\n",
    "       .build()\n",
    "\n",
    "\n",
    "crossval_gbt = CrossValidator(estimator=gb_tuned,\n",
    "                           evaluator=f_score,\n",
    "                           estimatorParamMaps=paramGrid,\n",
    "                           numFolds=3)"
   ]
  },
  {
   "cell_type": "code",
   "execution_count": 52,
   "metadata": {},
   "outputs": [
    {
     "name": "stdout",
     "output_type": "stream",
     "text": [
      "Gradient Boosting Results\n",
      "Accuracy\n",
      "0.9876918273733759\n",
      "F-1 score\n",
      "0.9874946609715828\n"
     ]
    }
   ],
   "source": [
    "gb_train = gb_tuned.fit(train)\n",
    "gb_test = gb_train.transform(test)\n",
    "    \n",
    "\n",
    "evaluator = MulticlassClassificationEvaluator(predictionCol='prediction')\n",
    "print('Gradient Boosting Results')\n",
    "print('Accuracy')\n",
    "print(evaluator.evaluate(gb_test,{evaluator.metricName: 'accuracy'}))\n",
    "print('F-1 score')\n",
    "print(evaluator.evaluate(gb_test, {evaluator.metricName: 'f1'}))\n",
    "\n"
   ]
  },
  {
   "cell_type": "markdown",
   "metadata": {},
   "source": [
    "## Feature Importance"
   ]
  },
  {
   "cell_type": "code",
   "execution_count": 53,
   "metadata": {},
   "outputs": [
    {
     "data": {
      "text/plain": [
       "SparseVector(6, {0: 0.3607, 1: 0.0165, 2: 0.2454, 3: 0.2453, 4: 0.0044, 5: 0.1276})"
      ]
     },
     "execution_count": 53,
     "metadata": {},
     "output_type": "execute_result"
    }
   ],
   "source": [
    "gb_train.featureImportances"
   ]
  },
  {
   "cell_type": "code",
   "execution_count": 54,
   "metadata": {},
   "outputs": [],
   "source": [
    "importances = [0.2823, 0.0366, 0.2839, 0.2563, 0.0191, 0.1219]\n",
    "features = ['song_per_user', 'gender_num', 'thumbs_up', 'thumbs_down','level_num','listening_time']"
   ]
  },
  {
   "cell_type": "code",
   "execution_count": 55,
   "metadata": {},
   "outputs": [
    {
     "data": {
      "text/plain": [
       "Text(0.5,1,'Feature Importances')"
      ]
     },
     "execution_count": 55,
     "metadata": {},
     "output_type": "execute_result"
    },
    {
     "data": {
      "image/png": "[encoded data removed]",
      "text/plain": [
       "<matplotlib.figure.Figure at 0x7f67b09e23c8>"
      ]
     },
     "metadata": {
      "needs_background": "light"
     },
     "output_type": "display_data"
    }
   ],
   "source": [
    "feat = np.arange(len(features))\n",
    " \n",
    "plt.barh(feat, importances, align='center', alpha=0.5)\n",
    "plt.yticks(feat, features)\n",
    "plt.xlabel('Importance Score')\n",
    "plt.title('Feature Importances')"
   ]
  },
  {
   "cell_type": "markdown",
   "metadata": {},
   "source": [
    "# Summary "
   ]
  },
  {
   "cell_type": "markdown",
   "metadata": {},
   "source": [
    "In this project first I introduced three baseline algorithms in order to predict customer churn rates of a Sparkify app. The best performing one was the gardient boosting algorithm with an Accuracy of over 99% and F1 score of 99%. \n",
    "\n",
    "The results suggest a major overifitting caused most probably by the small and unbalanced sample of the data. \n",
    "\n",
    "Second, based on its performance I proceeded with gradient boosting algorithm. Additionally in the second step I applied hyperparameter tuning via grid search.  The reason for this strategy is the assumption, that gradient bosting will, despite overfitting, perform best on the wohle dataset. \n",
    "\n",
    "After the second run of the garadient boosting with hyperparameter tuned, the results are similar to those from the baseline model. The F1 score remained  very high at 99%. As a next step we should test gradient boosting on the entire dataset.\n",
    "\n",
    "Furthermore, I also examined the most important factors for the churn rate as it is displayed in the feature importance section. The most important factors in customer churn seem to be: the number of songs played per user, user engagement as represented by the thumbs up/down feature and overall listening time.\n"
   ]
  },
  {
   "cell_type": "markdown",
   "metadata": {},
   "source": [
    "# Reflection and Improvements"
   ]
  },
  {
   "cell_type": "markdown",
   "metadata": {},
   "source": [
    "Overall, one of the most demanding task in the project was gaining of a throughout understanding of the data at hand. The high number of features and the interactions between users and the app had to be entangled and quantified in order to be processed by algorithms. \n",
    "\n",
    "The easiest way to improve the results of this analysis would be a wider graphical visualisation of the connections between various features. This could improve our understanding of the data. \n",
    "\n",
    "From the feature importance section we can also see, that factors most responsible for the churn rate are probably correlated with each other. A further research strategy could therfore design a statistical regression analysis with some features and see, which factors are statistically significant for predicting the churn rate. Here I could also introduce geographical location as a dummy variable.\n",
    "\n",
    "Additionally a further viable stategy would be to sample many smaller datasets from the large dataset and process them without using Spark. In this case we could use wider range of algorithms that are currently not supported by Spark. "
   ]
  },
  {
   "cell_type": "code",
   "execution_count": null,
   "metadata": {},
   "outputs": [],
   "source": []
  }
 ],
 "metadata": {
  "kernelspec": {
   "display_name": "Python 3",
   "language": "python",
   "name": "python3"
  },
  "language_info": {
   "codemirror_mode": {
    "name": "ipython",
    "version": 3
   },
   "file_extension": ".py",
   "mimetype": "text/x-python",
   "name": "python",
   "nbconvert_exporter": "python",
   "pygments_lexer": "ipython3",
   "version": "3.6.3"
  }
 },
 "nbformat": 4,
 "nbformat_minor": 2
}
